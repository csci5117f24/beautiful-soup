{
 "cells": [
  {
   "cell_type": "code",
   "execution_count": 1,
   "id": "54d8fc208cbbdece",
   "metadata": {},
   "outputs": [],
   "source": [
    "from bs4 import BeautifulSoup\n",
    "import requests"
   ]
  },
  {
   "cell_type": "code",
   "execution_count": 2,
   "id": "c86e2ef1b383c501",
   "metadata": {
    "ExecuteTime": {
     "end_time": "2024-10-29T18:05:08.815051Z",
     "start_time": "2024-10-29T18:05:08.797441Z"
    }
   },
   "outputs": [],
   "source": [
    "url = \"https://minneapolis.craigslist.org/search/apa\"\n",
    "\n",
    "response = requests.get(url)\n",
    "assert response.status_code == 200"
   ]
  },
  {
   "cell_type": "code",
   "execution_count": 3,
   "id": "529ee5708b83bafc",
   "metadata": {
    "ExecuteTime": {
     "end_time": "2024-10-29T18:05:11.614828Z",
     "start_time": "2024-10-29T18:05:11.037003Z"
    }
   },
   "outputs": [],
   "source": [
    "soup = BeautifulSoup(response.text, 'html.parser')"
   ]
  },
  {
   "cell_type": "code",
   "execution_count": 4,
   "id": "initial_id",
   "metadata": {
    "ExecuteTime": {
     "end_time": "2024-10-29T18:05:38.669752Z",
     "start_time": "2024-10-29T18:05:38.522024Z"
    }
   },
   "outputs": [
    {
     "data": {
      "text/plain": [
       "[<li class=\"cl-static-search-result\" title=\"The Meadows, Coming home never felt so good. $500.00 off Move in Cost.\">\n",
       " <a href=\"https://minneapolis.craigslist.org/ank/apa/d/minneapolis-the-meadows-coming-home/7798288099.html\">\n",
       " <div class=\"title\">The Meadows, Coming home never felt so good. $500.00 off Move in Cost.</div>\n",
       " <div class=\"details\">\n",
       " <div class=\"price\">$1,490</div>\n",
       " <div class=\"location\">\n",
       "                         1770 121st Ave NW, Coon Rapids, MN\n",
       "                     </div>\n",
       " </div>\n",
       " </a>\n",
       " </li>,\n",
       " <li class=\"cl-static-search-result\" title=\"Elevator, Controlled Access, On-Site Laundry Facility\">\n",
       " <a href=\"https://minneapolis.craigslist.org/hnp/apa/d/minneapolis-elevator-controlled-access/7792172038.html\">\n",
       " <div class=\"title\">Elevator, Controlled Access, On-Site Laundry Facility</div>\n",
       " <div class=\"details\">\n",
       " <div class=\"price\">$1,225</div>\n",
       " <div class=\"location\">\n",
       "                         4261 Sheridan Ave S, Minneapolis, MN\n",
       "                     </div>\n",
       " </div>\n",
       " </a>\n",
       " </li>]"
      ]
     },
     "execution_count": 4,
     "metadata": {},
     "output_type": "execute_result"
    }
   ],
   "source": [
    "results = soup.find_all('li', class_='cl-static-search-result')\n",
    "results[0:2]"
   ]
  },
  {
   "cell_type": "code",
   "execution_count": 5,
   "id": "a0c005b682a97647",
   "metadata": {
    "ExecuteTime": {
     "end_time": "2024-10-29T18:08:29.769074Z",
     "start_time": "2024-10-29T18:08:29.763404Z"
    }
   },
   "outputs": [],
   "source": [
    "listings = []\n",
    "\n",
    "for result in results:\n",
    "    title = result.find(\"div\", class_=\"title\").text.strip()\n",
    "    price = result.find(\"div\", class_=\"price\").text.strip().replace('$', '').replace(',', '')\n",
    "    location = result.find(\"div\", class_=\"location\").text.strip()\n",
    "    link = result.find(\"a\", href=True)['href']\n",
    "    \n",
    "    listings.append({\n",
    "                \"title\": title,\n",
    "                \"price\": int(price) if price.isdigit() else None,\n",
    "                \"location\": location,\n",
    "                \"link\": link\n",
    "            })"
   ]
  },
  {
   "cell_type": "code",
   "execution_count": 6,
   "id": "51982bd1393419bb",
   "metadata": {
    "ExecuteTime": {
     "end_time": "2024-10-29T18:09:42.910574Z",
     "start_time": "2024-10-29T18:09:42.855216Z"
    }
   },
   "outputs": [
    {
     "data": {
      "text/plain": [
       "{'title': 'The Meadows, Coming home never felt so good. $500.00 off Move in Cost.',\n",
       " 'price': 1490,\n",
       " 'location': '1770 121st Ave NW, Coon Rapids, MN',\n",
       " 'link': 'https://minneapolis.craigslist.org/ank/apa/d/minneapolis-the-meadows-coming-home/7798288099.html'}"
      ]
     },
     "execution_count": 6,
     "metadata": {},
     "output_type": "execute_result"
    }
   ],
   "source": [
    "listings[0]"
   ]
  },
  {
   "cell_type": "code",
   "execution_count": 7,
   "id": "ccfbb46166b3ddae",
   "metadata": {},
   "outputs": [
    {
     "name": "stdout",
     "output_type": "stream",
     "text": [
      "Title: Let us help you find your next home! Check out this 2 bed, 2 bath!\n",
      "Price: $2102\n",
      "Location: Blaine - Near Bunker Hills Regional Park\n",
      "Link: https://minneapolis.craigslist.org/ank/apa/d/minneapolis-let-us-help-you-find-your/7796577040.html\n",
      "Title: Wonderful 1102 sqft, 2 bed, 2 bath floorplan in Vadnais Heights\n",
      "Price: $2435\n",
      "Location: Vadnais Heights - Near Bridgewood Park & White Bear Lake\n",
      "Link: https://minneapolis.craigslist.org/ram/apa/d/saint-paul-wonderful-1102-sqft-bed-bath/7797665954.html\n",
      "Title: By Minnehaha Creek\n",
      "Price: $2000\n",
      "Location: Minneapolis\n",
      "Link: https://minneapolis.craigslist.org/hnp/apa/d/minneapolis-by-minnehaha-creek/7798266958.html\n",
      "Title: Stop by today at the 2 bed / 2 bath of your dreams! 1180 Sq Ft!\n",
      "Price: $2102\n",
      "Location: Blaine - Near Bunker Hills Regional Park\n",
      "Link: https://minneapolis.craigslist.org/ank/apa/d/minneapolis-stop-by-today-at-the-bed/7794557204.html\n",
      "Title: Lots of space! 1102 sqft, 2 bed, washer/dryer in unit, near everything\n",
      "Price: $2435\n",
      "Location: Vadnais Heights - 5 Minute Drive to Heights Plaza\n",
      "Link: https://minneapolis.craigslist.org/ram/apa/d/saint-paul-lots-of-space-1102-sqft-bed/7797666121.html\n",
      "Title: Gorgeous new construction! Cedar Green Apartments - Now preleasing!\n",
      "Price: $2102\n",
      "Location: Blaine - Near Bunker Hills Regional Park\n",
      "Link: https://minneapolis.craigslist.org/ank/apa/d/minneapolis-gorgeous-new-construction/7798254495.html\n",
      "Title: Nice 4 BR, 2 Ba home. Recently Updated\n",
      "Price: $2500\n",
      "Location: Mounds View\n",
      "Link: https://minneapolis.craigslist.org/ram/apa/d/saint-paul-nice-br-ba-home-recently/7798231438.html\n",
      "Title: Spacious 3 Bed 2 Bath Unit in New Hope! $2275/mo - Avail 10/1\n",
      "Price: $2275\n",
      "Location: anoka/chisago/isanti\n",
      "Link: https://minneapolis.craigslist.org/ank/apa/d/circle-pines-spacious-bed-bath-unit-in/7798230303.html\n",
      "Title: We're not remodeled! We're brand NEW! Check us out!\n",
      "Price: $2254\n",
      "Location: Vadnais Heights - Near Bridgewood Park & White Bear Lake\n",
      "Link: https://minneapolis.craigslist.org/ram/apa/d/saint-paul-were-not-remodeled-were/7796535559.html\n",
      "Title: Woof! Bark! Meow! Pets Allowed Here! Check us out!\n",
      "Price: $2324\n",
      "Location: Minneapolis\n",
      "Link: https://minneapolis.craigslist.org/hnp/apa/d/minneapolis-woof-bark-meow-pets-allowed/7798225823.html\n",
      "Title: Breathtaking views and incredible amenities! 2 bed 2 bath 1112 sqft\n",
      "Price: $2100\n",
      "Location: Falcon Heights - Rosedale Mall\n",
      "Link: https://minneapolis.craigslist.org/ram/apa/d/saint-paul-breathtaking-views-and/7798224773.html\n",
      "Title: You'll love our style! Sophisticated urban living in Falcon Heights\n",
      "Price: $2100\n",
      "Location: Falcon Heights - Rosedale Mall\n",
      "Link: https://minneapolis.craigslist.org/ram/apa/d/saint-paul-youll-love-our-style/7798224706.html\n",
      "Title: Live in your dream home! 2 Bd/2 ba, 1121 SqFt\n",
      "Price: $2442\n",
      "Location: Minneapolis\n",
      "Link: https://minneapolis.craigslist.org/hnp/apa/d/minneapolis-live-in-your-dream-home-bd/7792226004.html\n",
      "Title: 1-2 Months Free! Sunny 2BR Apartment in Uptown, Near Bde Maka Ska\n",
      "Price: $2135\n",
      "Location: Uptown\n",
      "Link: https://minneapolis.craigslist.org/hnp/apa/d/minneapolis-2-months-free-sunny-2br/7798212949.html\n",
      "Title: BRAND NEW CONSTRUCTION - Amazing Style! 2 Bed / 2 Bath / 1102 SqFt!\n",
      "Price: $2435\n",
      "Location: Vadnais Heights - 5 Minute Drive to Heights Plaza\n",
      "Link: https://minneapolis.craigslist.org/ram/apa/d/saint-paul-brand-new-construction/7798214875.html\n",
      "Title: Looking for a lovely 2 Bed / 2 bath? Search no more! 1102 Sq Feet\n",
      "Price: $2435\n",
      "Location: Vadnais Heights - 5 Minute Drive to Heights Plaza\n",
      "Link: https://minneapolis.craigslist.org/ram/apa/d/saint-paul-looking-for-lovely-bed-bath/7798214518.html\n",
      "Title: What a great place to live! 2 bd, 2 ba, 1180 sq ft. Come home today!\n",
      "Price: $2102\n",
      "Location: Blaine - 15 Minute Walk to Blaine Crossing\n",
      "Link: https://minneapolis.craigslist.org/ank/apa/d/minneapolis-what-great-place-to-live-bd/7798209596.html\n",
      "Title: 3 Bedroom Home by McAllister College\n",
      "Price: $2490\n",
      "Location: St. Paul\n",
      "Link: https://minneapolis.craigslist.org/ram/apa/d/saint-paul-bedroom-home-by-mcallister/7798206250.html\n",
      "Title: Love your new apartment home! Beautiful 2 bedroom floorplans.\n",
      "Price: $2254\n",
      "Location: Vadnais Heights - Near Bridgewood Park & White Bear Lake\n",
      "Link: https://minneapolis.craigslist.org/ram/apa/d/saint-paul-love-your-new-apartment-home/7795817587.html\n",
      "Title: Fall in love with luxury living at its finest! Beautiful 2 BR, 2 BA!\n",
      "Price: $2428\n",
      "Location: Minneapolis\n",
      "Link: https://minneapolis.craigslist.org/hnp/apa/d/minneapolis-fall-in-love-with-luxury/7798188355.html\n"
     ]
    }
   ],
   "source": [
    "min_price = 2000\n",
    "max_price = 2500\n",
    "\n",
    "for listing in listings:\n",
    "    price = listing['price']\n",
    "    if price is not None and min_price <= price <= max_price:\n",
    "        print(f\"Title: {listing['title']}\")\n",
    "        print(f\"Price: ${listing['price']}\")\n",
    "        print(f\"Location: {listing['location']}\")\n",
    "        print(f\"Link: {listing['link']}\")"
   ]
  }
 ],
 "metadata": {
  "kernelspec": {
   "display_name": "scrap",
   "language": "python",
   "name": "python3"
  },
  "language_info": {
   "codemirror_mode": {
    "name": "ipython",
    "version": 3
   },
   "file_extension": ".py",
   "mimetype": "text/x-python",
   "name": "python",
   "nbconvert_exporter": "python",
   "pygments_lexer": "ipython3",
   "version": "3.12.7"
  }
 },
 "nbformat": 4,
 "nbformat_minor": 5
}
