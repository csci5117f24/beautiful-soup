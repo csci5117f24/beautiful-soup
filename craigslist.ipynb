{
 "cells": [
  {
   "cell_type": "code",
   "execution_count": 1,
   "id": "54d8fc208cbbdece",
   "metadata": {},
   "outputs": [],
   "source": [
    "from bs4 import BeautifulSoup\n",
    "import requests"
   ]
  },
  {
   "cell_type": "code",
   "execution_count": 2,
   "id": "c86e2ef1b383c501",
   "metadata": {
    "ExecuteTime": {
     "end_time": "2024-10-29T18:05:08.815051Z",
     "start_time": "2024-10-29T18:05:08.797441Z"
    }
   },
   "outputs": [],
   "source": [
    "url = \"https://minneapolis.craigslist.org/search/apa\"\n",
    "\n",
    "response = requests.get(url)\n",
    "assert response.status_code == 200"
   ]
  },
  {
   "cell_type": "code",
   "execution_count": 3,
   "id": "529ee5708b83bafc",
   "metadata": {
    "ExecuteTime": {
     "end_time": "2024-10-29T18:05:11.614828Z",
     "start_time": "2024-10-29T18:05:11.037003Z"
    }
   },
   "outputs": [],
   "source": [
    "soup = BeautifulSoup(response.text, 'html.parser')"
   ]
  },
  {
   "cell_type": "code",
   "id": "initial_id",
   "metadata": {},
   "source": [
    "results = soup.find_all('li', class_='cl-static-search-result')\n",
    "results[0:2]"
   ],
   "outputs": [],
   "execution_count": null
  },
  {
   "cell_type": "code",
   "id": "a0c005b682a97647",
   "metadata": {},
   "source": [
    "listings = []\n",
    "\n",
    "for result in results:\n",
    "    title = result.find(\"div\", class_=\"title\").text.strip()\n",
    "    price = result.find(\"div\", class_=\"price\").text.strip().replace('$', '').replace(',', '')\n",
    "    location = result.find(\"div\", class_=\"location\").text.strip()\n",
    "    link = result.find(\"a\", href=True)['href']\n",
    "    \n",
    "    listings.append({\n",
    "                \"title\": title,\n",
    "                \"price\": int(price) if price.isdigit() else None,\n",
    "                \"location\": location,\n",
    "                \"link\": link\n",
    "            })"
   ],
   "outputs": [],
   "execution_count": null
  },
  {
   "cell_type": "code",
   "id": "51982bd1393419bb",
   "metadata": {},
   "source": [
    "listings[0]"
   ],
   "outputs": [],
   "execution_count": null
  },
  {
   "cell_type": "code",
   "id": "ccfbb46166b3ddae",
   "metadata": {},
   "source": [
    "min_price = 2000\n",
    "max_price = 2500\n",
    "\n",
    "for listing in listings:\n",
    "    price = listing['price']\n",
    "    if price is not None and min_price <= price <= max_price:\n",
    "        print(f\"Title: {listing['title']}\")\n",
    "        print(f\"Price: ${listing['price']}\")\n",
    "        print(f\"Location: {listing['location']}\")\n",
    "        print(f\"Link: {listing['link']}\")"
   ],
   "outputs": [],
   "execution_count": null
  }
 ],
 "metadata": {
  "kernelspec": {
   "display_name": "scrap",
   "language": "python",
   "name": "python3"
  },
  "language_info": {
   "codemirror_mode": {
    "name": "ipython",
    "version": 3
   },
   "file_extension": ".py",
   "mimetype": "text/x-python",
   "name": "python",
   "nbconvert_exporter": "python",
   "pygments_lexer": "ipython3",
   "version": "3.12.7"
  }
 },
 "nbformat": 4,
 "nbformat_minor": 5
}
